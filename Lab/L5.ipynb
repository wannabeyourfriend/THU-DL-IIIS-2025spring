{
 "cells": [
  {
   "cell_type": "code",
   "execution_count": 1,
   "id": "f2241007-cc16-44bb-9ff3-800d439cac97",
   "metadata": {},
   "outputs": [],
   "source": [
    "import torch\n",
    "from torch import nn\n",
    "from torch.nn import functional as F"
   ]
  },
  {
   "cell_type": "code",
   "execution_count": 2,
   "id": "c6d6e754-a2f4-4382-a707-5b4ea70bd0e6",
   "metadata": {},
   "outputs": [
    {
     "name": "stderr",
     "output_type": "stream",
     "text": [
      "C:\\Users\\drhu0\\miniconda3\\Lib\\site-packages\\torch\\nn\\modules\\lazy.py:180: UserWarning: Lazy modules are a new feature under heavy development so changes to the API or functionality can happen at any moment.\n",
      "  warnings.warn('Lazy modules are a new feature under heavy development '\n"
     ]
    }
   ],
   "source": [
    "net = nn.Sequential(nn.LazyLinear(256), nn.ReLU(), nn.LazyLinear(10))"
   ]
  },
  {
   "cell_type": "code",
   "execution_count": 3,
   "id": "f68c8d0f-fe07-4ad0-a57a-329bb7849f99",
   "metadata": {},
   "outputs": [
    {
     "data": {
      "text/plain": [
       "Sequential(\n",
       "  (0): LazyLinear(in_features=0, out_features=256, bias=True)\n",
       "  (1): ReLU()\n",
       "  (2): LazyLinear(in_features=0, out_features=10, bias=True)\n",
       ")"
      ]
     },
     "execution_count": 3,
     "metadata": {},
     "output_type": "execute_result"
    }
   ],
   "source": [
    "net"
   ]
  },
  {
   "cell_type": "code",
   "execution_count": 4,
   "id": "794c68f7-9edd-447d-9584-608310daa2db",
   "metadata": {},
   "outputs": [
    {
     "name": "stdout",
     "output_type": "stream",
     "text": [
      "tensor([[0.8817, 0.3688, 0.3752, 0.2252, 0.1093, 0.8586, 0.4690, 0.0190, 0.9606,\n",
      "         0.6247, 0.6362, 0.0418, 0.3044, 0.2760, 0.6413, 0.1630, 0.5387, 0.3126,\n",
      "         0.2692, 0.2251],\n",
      "        [0.8075, 0.2585, 0.6105, 0.4128, 0.5629, 0.2252, 0.4192, 0.0558, 0.4248,\n",
      "         0.2762, 0.8086, 0.0114, 0.8259, 0.2301, 0.8942, 0.2410, 0.1797, 0.3384,\n",
      "         0.8826, 0.7303]])\n"
     ]
    },
    {
     "data": {
      "text/plain": [
       "torch.Size([2, 10])"
      ]
     },
     "execution_count": 4,
     "metadata": {},
     "output_type": "execute_result"
    }
   ],
   "source": [
    "X = torch.rand(2, 20)\n",
    "print(X)\n",
    "net(X).shape"
   ]
  },
  {
   "cell_type": "code",
   "execution_count": 5,
   "id": "c2fe91a2-80a3-42fd-8f8f-cbe630487324",
   "metadata": {},
   "outputs": [],
   "source": [
    "class MLP(nn.Module):\n",
    "    def __init__(self):\n",
    "        # Call the constructor of the parent class nn.Module to perform\n",
    "        # the necessary initialization\n",
    "        super().__init__()\n",
    "        self.hidden = nn.LazyLinear(256)\n",
    "        self.out = nn.LazyLinear(10)\n",
    "\n",
    "    # Define the forward propagation of the model, that is, how to return the\n",
    "    # required model output based on the input X\n",
    "    def forward(self, X):\n",
    "        return self.out(F.relu(self.hidden(X)))"
   ]
  },
  {
   "cell_type": "code",
   "execution_count": 6,
   "id": "6f90fc2a-d20a-4cb3-8697-7ab321c17f52",
   "metadata": {},
   "outputs": [
    {
     "name": "stdout",
     "output_type": "stream",
     "text": [
      "tensor([[0.7688, 0.5314, 0.1237, 0.9664, 0.5719, 0.7690, 0.1723, 0.6260, 0.6166,\n",
      "         0.5428, 0.6944, 0.9658, 0.7470, 0.1695, 0.7031, 0.5386, 0.7105, 0.7451,\n",
      "         0.3555, 0.8344, 0.5305, 0.0286, 0.9068, 0.7443, 0.6961],\n",
      "        [0.0632, 0.5445, 0.0839, 0.5033, 0.2544, 0.8736, 0.1211, 0.6875, 0.4681,\n",
      "         0.9824, 0.9614, 0.5796, 0.3575, 0.7056, 0.7241, 0.1791, 0.0068, 0.4748,\n",
      "         0.0834, 0.4085, 0.7043, 0.5200, 0.1780, 0.7000, 0.5709]])\n",
      "torch.Size([2, 10])\n",
      "MLP(\n",
      "  (hidden): Linear(in_features=25, out_features=256, bias=True)\n",
      "  (out): Linear(in_features=256, out_features=10, bias=True)\n",
      ")\n"
     ]
    }
   ],
   "source": [
    "Y = torch.rand(2, 25)\n",
    "print(Y)\n",
    "net = MLP()\n",
    "print(net(Y).shape)\n",
    "print(net)"
   ]
  },
  {
   "cell_type": "code",
   "execution_count": 7,
   "id": "d00d073e-cfde-47ae-8591-61b6b3472cae",
   "metadata": {},
   "outputs": [
    {
     "name": "stdout",
     "output_type": "stream",
     "text": [
      "tensor([[ 0.0201, -0.1414,  0.2681,  0.0479, -0.1967, -0.1659,  0.2092, -0.0777,\n",
      "          0.0075, -0.0500],\n",
      "        [-0.0559, -0.0453,  0.1192,  0.0237, -0.2137, -0.1102,  0.1383, -0.0716,\n",
      "         -0.0948, -0.0787]], grad_fn=<AddmmBackward0>)\n"
     ]
    }
   ],
   "source": [
    "print(net(Y))"
   ]
  },
  {
   "cell_type": "code",
   "execution_count": 8,
   "id": "b22b1cf7-7d0e-4d68-9eec-5c24618cf742",
   "metadata": {},
   "outputs": [],
   "source": [
    "class MySequential(nn.Module):\n",
    "    def __init__(self, *args):\n",
    "        super().__init__()\n",
    "        for idx, module in enumerate(args):\n",
    "            self.add_module(str(idx), module)\n",
    "\n",
    "    def forward(self, X):\n",
    "        for module in self.children():\n",
    "            X = module(X)\n",
    "        return X"
   ]
  },
  {
   "cell_type": "code",
   "execution_count": 9,
   "id": "52bdef03-7365-4550-a65d-6268c38f87e3",
   "metadata": {},
   "outputs": [
    {
     "data": {
      "text/plain": [
       "torch.Size([2, 10])"
      ]
     },
     "execution_count": 9,
     "metadata": {},
     "output_type": "execute_result"
    }
   ],
   "source": [
    "net = MySequential(nn.LazyLinear(256), nn.ReLU(), nn.LazyLinear(10))\n",
    "net(X).shape"
   ]
  },
  {
   "cell_type": "code",
   "execution_count": 10,
   "id": "d4f5cbc4-89a0-4c75-bc95-7e58a967774d",
   "metadata": {},
   "outputs": [
    {
     "name": "stdout",
     "output_type": "stream",
     "text": [
      "tensor([[-0.1928,  0.0456, -0.0861, -0.0051, -0.0765,  0.0018,  0.0587,  0.0114,\n",
      "         -0.0007,  0.0992],\n",
      "        [-0.0761, -0.0198, -0.1515,  0.1032, -0.0381, -0.0875,  0.0886, -0.0143,\n",
      "          0.0666,  0.0400]], grad_fn=<AddmmBackward0>)\n"
     ]
    }
   ],
   "source": [
    "print(net(X))"
   ]
  },
  {
   "cell_type": "code",
   "execution_count": 11,
   "id": "c38dc67c-32e0-422b-8e62-45c42a856dc8",
   "metadata": {},
   "outputs": [],
   "source": [
    "class FixedHiddenMLP(nn.Module):\n",
    "    def __init__(self):\n",
    "        super().__init__()\n",
    "        # Random weight parameters that will not compute gradients and\n",
    "        # therefore keep constant during training\n",
    "        self.rand_weight = torch.rand((20, 20))\n",
    "        self.linear = nn.LazyLinear(20)\n",
    "\n",
    "    def forward(self, X):\n",
    "        print(X)\n",
    "        X = self.linear(X)\n",
    "        print(X)\n",
    "        X = F.relu(X @ self.rand_weight + 1)\n",
    "        print(X)\n",
    "        # Reuse the fully connected layer. This is equivalent to sharing\n",
    "        # parameters with two fully connected layers\n",
    "        X = self.linear(X)\n",
    "        print(X)\n",
    "        # Control flow\n",
    "        while X.abs().sum() > 1:\n",
    "            X /= 2\n",
    "        return X.sum()"
   ]
  },
  {
   "cell_type": "code",
   "execution_count": 12,
   "id": "50e21989-0bd8-496e-8bec-bcb28fc7863a",
   "metadata": {},
   "outputs": [
    {
     "name": "stdout",
     "output_type": "stream",
     "text": [
      "tensor([[0.8817, 0.3688, 0.3752, 0.2252, 0.1093, 0.8586, 0.4690, 0.0190, 0.9606,\n",
      "         0.6247, 0.6362, 0.0418, 0.3044, 0.2760, 0.6413, 0.1630, 0.5387, 0.3126,\n",
      "         0.2692, 0.2251],\n",
      "        [0.8075, 0.2585, 0.6105, 0.4128, 0.5629, 0.2252, 0.4192, 0.0558, 0.4248,\n",
      "         0.2762, 0.8086, 0.0114, 0.8259, 0.2301, 0.8942, 0.2410, 0.1797, 0.3384,\n",
      "         0.8826, 0.7303]])\n",
      "tensor([[-0.3100,  0.0275, -0.6039, -0.0274,  0.2495,  0.2649, -0.1968, -0.2168,\n",
      "          0.0144, -0.5568, -0.2003,  0.2115,  0.1632,  0.0292, -0.0314, -0.1499,\n",
      "         -0.5893,  0.0174, -0.4951,  0.3001],\n",
      "        [-0.2813,  0.2979, -0.1368, -0.3075,  0.1596,  0.2175, -0.0255, -0.1071,\n",
      "          0.3821, -0.5584, -0.2568,  0.3668, -0.0024,  0.1399, -0.2076, -0.1234,\n",
      "         -0.2040, -0.2344, -0.4771,  0.2246]], grad_fn=<AddmmBackward0>)\n",
      "tensor([[0.2466, 0.0000, 0.0129, 0.3691, 0.0000, 0.0000, 0.0000, 0.0000, 0.0000,\n",
      "         0.0000, 0.0000, 0.2000, 0.0000, 0.0000, 0.0513, 0.0000, 0.0000, 0.4310,\n",
      "         0.0000, 0.3543],\n",
      "        [0.4908, 0.2915, 0.2244, 1.2469, 0.4537, 0.0531, 0.0000, 0.0924, 0.3702,\n",
      "         0.0419, 0.6730, 0.6711, 0.0464, 0.8127, 0.0000, 0.4341, 0.7652, 0.9098,\n",
      "         0.0000, 0.5641]], grad_fn=<ReluBackward0>)\n",
      "tensor([[-0.0680, -0.0726, -0.1882, -0.2366,  0.0640,  0.0979, -0.1800, -0.0454,\n",
      "          0.0731, -0.2870, -0.1058,  0.0765,  0.2787, -0.1035,  0.2931, -0.0835,\n",
      "         -0.0935,  0.2065, -0.0436,  0.2110],\n",
      "        [-0.0391, -0.1368, -0.6629, -0.2582,  0.3037,  0.1038, -0.2000, -0.4937,\n",
      "          0.2117, -0.5811, -0.0100,  0.4615,  0.5695, -0.3614,  0.3629, -0.3615,\n",
      "         -0.2589, -0.0910, -0.2185,  0.0860]], grad_fn=<AddmmBackward0>)\n"
     ]
    },
    {
     "data": {
      "text/plain": [
       "tensor(-0.1113, grad_fn=<SumBackward0>)"
      ]
     },
     "execution_count": 12,
     "metadata": {},
     "output_type": "execute_result"
    }
   ],
   "source": [
    "net = FixedHiddenMLP()\n",
    "net(X)"
   ]
  },
  {
   "cell_type": "code",
   "execution_count": 13,
   "id": "984de23b-6423-4c4f-82fb-307f7a4ae45f",
   "metadata": {},
   "outputs": [
    {
     "name": "stdout",
     "output_type": "stream",
     "text": [
      "tensor([[-0.0140,  0.0736,  0.2891,  0.0496,  0.0806,  0.1230,  0.2501, -0.0491,\n",
      "         -0.0154, -0.2941, -0.1843, -0.1660, -0.2542, -0.0298, -0.2364,  0.0124,\n",
      "          0.1949, -0.0061, -0.0244, -0.1414],\n",
      "        [ 0.0081,  0.0728,  0.2695,  0.0779,  0.0841,  0.1317,  0.2501, -0.0522,\n",
      "         -0.0035, -0.2925, -0.1736, -0.1789, -0.2213, -0.0490, -0.2263,  0.0443,\n",
      "          0.1886, -0.0492, -0.0268, -0.1922]], grad_fn=<AddmmBackward0>)\n",
      "tensor([[ 0.2367, -0.3587,  0.0816,  0.1174,  0.0903,  0.1712, -0.1872,  0.0227,\n",
      "         -0.2261,  0.2275,  0.0128,  0.1494, -0.0195,  0.1676, -0.1837, -0.1147,\n",
      "         -0.1716, -0.2612,  0.0226,  0.1904],\n",
      "        [ 0.2267, -0.3543,  0.0996,  0.1073,  0.0904,  0.1563, -0.1823,  0.0049,\n",
      "         -0.2353,  0.2284,  0.0499,  0.1433, -0.0146,  0.1615, -0.1841, -0.0986,\n",
      "         -0.1527, -0.2615,  0.0238,  0.1937]], grad_fn=<AddmmBackward0>)\n",
      "tensor([[1.2011, 0.5513, 0.8431, 0.6450, 1.0896, 1.2798, 0.7021, 1.0921, 0.8170,\n",
      "         0.8490, 0.6853, 0.7226, 0.9506, 1.1155, 1.0173, 0.6790, 1.1059, 1.2028,\n",
      "         0.8729, 1.1600],\n",
      "        [1.1778, 0.5932, 0.8631, 0.6807, 1.1151, 1.2815, 0.7247, 1.1045, 0.8353,\n",
      "         0.9106, 0.7169, 0.7712, 0.9600, 1.0993, 1.0448, 0.7087, 1.1361, 1.2415,\n",
      "         0.8763, 1.1711]], grad_fn=<ReluBackward0>)\n",
      "tensor([[ 0.1581,  0.5143,  0.0070,  0.2438, -0.4995,  0.5511,  0.0272, -0.1626,\n",
      "          0.6550,  0.5892,  0.5700, -0.1793, -0.8578, -1.3643,  0.0874, -0.3329,\n",
      "         -0.2768, -0.3704,  0.6041,  0.3122],\n",
      "        [ 0.1621,  0.5306, -0.0131,  0.2571, -0.5252,  0.5433,  0.0454, -0.1730,\n",
      "          0.6777,  0.6001,  0.5893, -0.1854, -0.8700, -1.3862,  0.0946, -0.3608,\n",
      "         -0.2848, -0.3846,  0.6193,  0.3408]], grad_fn=<AddmmBackward0>)\n"
     ]
    },
    {
     "data": {
      "text/plain": [
       "tensor(0.0173, grad_fn=<SumBackward0>)"
      ]
     },
     "execution_count": 13,
     "metadata": {},
     "output_type": "execute_result"
    }
   ],
   "source": [
    "class NestMLP(nn.Module):\n",
    "    def __init__(self):\n",
    "        super().__init__()\n",
    "        self.net = nn.Sequential(nn.LazyLinear(64), nn.ReLU(),\n",
    "                                 nn.LazyLinear(32), nn.ReLU())\n",
    "        self.linear = nn.LazyLinear(16)\n",
    "\n",
    "    def forward(self, X):\n",
    "        return self.linear(self.net(X))\n",
    "\n",
    "chimera = nn.Sequential(NestMLP(), nn.LazyLinear(20), FixedHiddenMLP())\n",
    "chimera(X)"
   ]
  },
  {
   "cell_type": "code",
   "execution_count": 14,
   "id": "fdb5be93-c216-4b98-ad87-edc7dbfeec92",
   "metadata": {},
   "outputs": [],
   "source": [
    "import torch\n",
    "from torch import nn"
   ]
  },
  {
   "cell_type": "code",
   "execution_count": 15,
   "id": "98ff2dd0-6ece-4022-9882-f24bf02afec1",
   "metadata": {},
   "outputs": [
    {
     "data": {
      "text/plain": [
       "torch.Size([2, 1])"
      ]
     },
     "execution_count": 15,
     "metadata": {},
     "output_type": "execute_result"
    }
   ],
   "source": [
    "net = nn.Sequential(nn.LazyLinear(8),\n",
    "                    nn.ReLU(),\n",
    "                    nn.LazyLinear(1))\n",
    "\n",
    "X = torch.rand(size=(2, 4))\n",
    "net(X).shape"
   ]
  },
  {
   "cell_type": "code",
   "execution_count": 16,
   "id": "f87179b5-5155-4a67-b348-205668c53f39",
   "metadata": {},
   "outputs": [
    {
     "name": "stdout",
     "output_type": "stream",
     "text": [
      "tensor([[-0.2592],\n",
      "        [-0.2325]], grad_fn=<AddmmBackward0>)\n",
      "3\n"
     ]
    },
    {
     "data": {
      "text/plain": [
       "(None, None)"
      ]
     },
     "execution_count": 16,
     "metadata": {},
     "output_type": "execute_result"
    }
   ],
   "source": [
    "print(net(X)), print(len(net))"
   ]
  },
  {
   "cell_type": "code",
   "execution_count": 17,
   "id": "4dc0847f-2704-4b53-9425-a1a1e813fcc1",
   "metadata": {},
   "outputs": [
    {
     "name": "stdout",
     "output_type": "stream",
     "text": [
      "Sequential(\n",
      "  (0): Linear(in_features=4, out_features=8, bias=True)\n",
      "  (1): ReLU()\n",
      "  (2): Linear(in_features=8, out_features=1, bias=True)\n",
      ")\n"
     ]
    }
   ],
   "source": [
    "print(net)"
   ]
  },
  {
   "cell_type": "code",
   "execution_count": 18,
   "id": "9080b17d-fb72-470b-a975-ebb74276d768",
   "metadata": {},
   "outputs": [
    {
     "data": {
      "text/plain": [
       "OrderedDict([('weight',\n",
       "              tensor([[-0.1059, -0.0964, -0.2920, -0.0033, -0.1329, -0.0126, -0.0365, -0.3188]])),\n",
       "             ('bias', tensor([-0.0178]))])"
      ]
     },
     "execution_count": 18,
     "metadata": {},
     "output_type": "execute_result"
    }
   ],
   "source": [
    "net[2].state_dict()"
   ]
  },
  {
   "cell_type": "code",
   "execution_count": 19,
   "id": "ec73f8d7-0112-4464-8d01-0d8be3cf012b",
   "metadata": {},
   "outputs": [
    {
     "data": {
      "text/plain": [
       "OrderedDict()"
      ]
     },
     "execution_count": 19,
     "metadata": {},
     "output_type": "execute_result"
    }
   ],
   "source": [
    "net[1].state_dict()"
   ]
  },
  {
   "cell_type": "code",
   "execution_count": 20,
   "id": "0e5b9097-3baf-40f6-b884-e88f5d3c6c4a",
   "metadata": {},
   "outputs": [
    {
     "data": {
      "text/plain": [
       "OrderedDict([('weight',\n",
       "              tensor([[ 0.1818,  0.2196,  0.1701,  0.3125],\n",
       "                      [-0.4634,  0.0150,  0.1587,  0.2880],\n",
       "                      [ 0.3853,  0.2453, -0.2673,  0.0608],\n",
       "                      [ 0.4209, -0.2034,  0.3777, -0.0469],\n",
       "                      [ 0.1038, -0.4133, -0.2384, -0.0516],\n",
       "                      [-0.1722, -0.3798, -0.0452,  0.0014],\n",
       "                      [-0.1569, -0.3686,  0.3151, -0.4350],\n",
       "                      [-0.4617, -0.2278, -0.0748, -0.2721]])),\n",
       "             ('bias',\n",
       "              tensor([-0.2453, -0.0472,  0.4108,  0.2393, -0.2408, -0.1498, -0.1127,  0.1278]))])"
      ]
     },
     "execution_count": 20,
     "metadata": {},
     "output_type": "execute_result"
    }
   ],
   "source": [
    "net[0].state_dict()"
   ]
  },
  {
   "cell_type": "code",
   "execution_count": 21,
   "id": "56cee158-5c16-4669-a327-09bf5246a017",
   "metadata": {},
   "outputs": [
    {
     "data": {
      "text/plain": [
       "(torch.nn.parameter.Parameter, tensor([-0.0178]))"
      ]
     },
     "execution_count": 21,
     "metadata": {},
     "output_type": "execute_result"
    }
   ],
   "source": [
    "type(net[2].bias), net[2].bias.data"
   ]
  },
  {
   "cell_type": "code",
   "execution_count": 22,
   "id": "20a0d6b2-24a4-43a6-9590-13d0268ec1a7",
   "metadata": {},
   "outputs": [
    {
     "data": {
      "text/plain": [
       "tensor([-0.2453, -0.0472,  0.4108,  0.2393, -0.2408, -0.1498, -0.1127,  0.1278])"
      ]
     },
     "execution_count": 22,
     "metadata": {},
     "output_type": "execute_result"
    }
   ],
   "source": [
    "net[0].bias.data"
   ]
  },
  {
   "cell_type": "code",
   "execution_count": 23,
   "id": "e410894b-4e56-42da-888b-9f7ede50bcbe",
   "metadata": {},
   "outputs": [
    {
     "data": {
      "text/plain": [
       "True"
      ]
     },
     "execution_count": 23,
     "metadata": {},
     "output_type": "execute_result"
    }
   ],
   "source": [
    "net[2].weight.grad == None"
   ]
  },
  {
   "cell_type": "code",
   "execution_count": 24,
   "id": "37ae804f-af8e-4569-82cc-fee97b8899e8",
   "metadata": {},
   "outputs": [
    {
     "data": {
      "text/plain": [
       "torch.nn.parameter.Parameter"
      ]
     },
     "execution_count": 24,
     "metadata": {},
     "output_type": "execute_result"
    }
   ],
   "source": [
    "type(net[2].weight)"
   ]
  },
  {
   "cell_type": "code",
   "execution_count": 25,
   "id": "a7104e9c-fdc8-4496-a7fa-b101b46850aa",
   "metadata": {},
   "outputs": [
    {
     "data": {
      "text/plain": [
       "tensor([[-0.1059, -0.0964, -0.2920, -0.0033, -0.1329, -0.0126, -0.0365, -0.3188]])"
      ]
     },
     "execution_count": 25,
     "metadata": {},
     "output_type": "execute_result"
    }
   ],
   "source": [
    "net[2].weight.data"
   ]
  },
  {
   "cell_type": "code",
   "execution_count": 26,
   "id": "3019e0ab-b3b5-4912-8894-befce26e5d72",
   "metadata": {},
   "outputs": [
    {
     "data": {
      "text/plain": [
       "[('0.weight', torch.Size([8, 4])),\n",
       " ('0.bias', torch.Size([8])),\n",
       " ('2.weight', torch.Size([1, 8])),\n",
       " ('2.bias', torch.Size([1]))]"
      ]
     },
     "execution_count": 26,
     "metadata": {},
     "output_type": "execute_result"
    }
   ],
   "source": [
    "[(name, param.shape) for name, param in net.named_parameters()]"
   ]
  },
  {
   "cell_type": "code",
   "execution_count": 27,
   "id": "30a2d7d6-ef96-4fff-b20b-681a33b8b21d",
   "metadata": {},
   "outputs": [
    {
     "name": "stdout",
     "output_type": "stream",
     "text": [
      "tensor([True, True, True, True, True, True, True, True])\n",
      "tensor([True, True, True, True, True, True, True, True])\n"
     ]
    }
   ],
   "source": [
    "# We need to give the shared layer a name so that we can refer to its\n",
    "# parameters\n",
    "shared = nn.LazyLinear(8)\n",
    "net = nn.Sequential(nn.LazyLinear(8), nn.ReLU(),\n",
    "                    shared, nn.ReLU(),\n",
    "                    shared, nn.ReLU(),\n",
    "                    nn.LazyLinear(1))\n",
    "\n",
    "net(X)\n",
    "# Check whether the parameters are the same\n",
    "print(net[2].weight.data[0] == net[4].weight.data[0])\n",
    "net[2].weight.data[0, 0] = 100\n",
    "# Make sure that they are actually the same object rather than just having the\n",
    "# same value\n",
    "print(net[2].weight.data[0] == net[4].weight.data[0])"
   ]
  },
  {
   "cell_type": "code",
   "execution_count": 28,
   "id": "697cde3e-5fdd-4764-9e5c-6b6239986448",
   "metadata": {},
   "outputs": [
    {
     "data": {
      "text/plain": [
       "torch.Size([2, 1])"
      ]
     },
     "execution_count": 28,
     "metadata": {},
     "output_type": "execute_result"
    }
   ],
   "source": [
    "import torch\n",
    "from torch import nn\n",
    "net = nn.Sequential(nn.LazyLinear(8), nn.ReLU(), nn.LazyLinear(1))\n",
    "X = torch.rand(size=(2, 4))\n",
    "net(X).shape"
   ]
  },
  {
   "cell_type": "code",
   "execution_count": 29,
   "id": "792e8207-ad4d-4211-941c-f65bd438ac9d",
   "metadata": {},
   "outputs": [
    {
     "name": "stdout",
     "output_type": "stream",
     "text": [
      "tensor([[-0.3194],\n",
      "        [-0.2610]], grad_fn=<AddmmBackward0>)\n"
     ]
    }
   ],
   "source": [
    "print(net(X))"
   ]
  },
  {
   "cell_type": "code",
   "execution_count": 30,
   "id": "3081f305-f496-473a-b826-f3250b014f0b",
   "metadata": {},
   "outputs": [
    {
     "data": {
      "text/plain": [
       "(tensor([ 0.1549,  0.1693, -0.1878, -0.4363]), tensor(0.4064))"
      ]
     },
     "execution_count": 30,
     "metadata": {},
     "output_type": "execute_result"
    }
   ],
   "source": [
    "net[0].weight.data[0], net[0].bias.data[0]"
   ]
  },
  {
   "cell_type": "code",
   "execution_count": 31,
   "id": "701f5c78-7c3b-48f2-be7e-4a4435a68e58",
   "metadata": {},
   "outputs": [
    {
     "data": {
      "text/plain": [
       "(tensor([-0.0184, -0.0021, -0.0104,  0.0021]), tensor(0.))"
      ]
     },
     "execution_count": 31,
     "metadata": {},
     "output_type": "execute_result"
    }
   ],
   "source": [
    "def init_normal(module):\n",
    "    if type(module) == nn.Linear:\n",
    "        nn.init.normal_(module.weight, mean=0, std=0.01)\n",
    "        nn.init.zeros_(module.bias)\n",
    "\n",
    "net.apply(init_normal)\n",
    "net[0].weight.data[0], net[0].bias.data[0]"
   ]
  },
  {
   "cell_type": "code",
   "execution_count": 32,
   "id": "114ea0fc-fc6d-4c2e-b7c8-36af47aadce0",
   "metadata": {},
   "outputs": [
    {
     "name": "stdout",
     "output_type": "stream",
     "text": [
      "tensor([[1.7155e-05],\n",
      "        [1.5661e-05]], grad_fn=<AddmmBackward0>)\n"
     ]
    }
   ],
   "source": [
    "print(net(X))"
   ]
  },
  {
   "cell_type": "code",
   "execution_count": 33,
   "id": "366b7eb2-d945-4f36-8ed6-d8dcecb7ccda",
   "metadata": {},
   "outputs": [
    {
     "data": {
      "text/plain": [
       "(tensor([1., 1., 1., 1.]), tensor(0.))"
      ]
     },
     "execution_count": 33,
     "metadata": {},
     "output_type": "execute_result"
    }
   ],
   "source": [
    "def init_constant(module):\n",
    "    if type(module) == nn.Linear:\n",
    "        nn.init.constant_(module.weight, 1)\n",
    "        nn.init.zeros_(module.bias)\n",
    "\n",
    "net.apply(init_constant)\n",
    "net[0].weight.data[0], net[0].bias.data[0]"
   ]
  },
  {
   "cell_type": "code",
   "execution_count": 34,
   "id": "e5583279-8089-4488-9fb3-f41b4ac04b4f",
   "metadata": {},
   "outputs": [
    {
     "name": "stdout",
     "output_type": "stream",
     "text": [
      "tensor([[12.8312],\n",
      "        [ 8.9793]], grad_fn=<AddmmBackward0>)\n"
     ]
    }
   ],
   "source": [
    "print(net(X))"
   ]
  },
  {
   "cell_type": "code",
   "execution_count": 35,
   "id": "6e5c7d3b-c86e-4622-bb3e-5020b5d878fe",
   "metadata": {},
   "outputs": [
    {
     "name": "stdout",
     "output_type": "stream",
     "text": [
      "tensor([ 0.6647, -0.2535,  0.5426,  0.0472])\n",
      "tensor([[42., 42., 42., 42., 42., 42., 42., 42.]])\n"
     ]
    }
   ],
   "source": [
    "def init_xavier(module):\n",
    "    if type(module) == nn.Linear:\n",
    "        nn.init.xavier_uniform_(module.weight)\n",
    "\n",
    "def init_42(module):\n",
    "    if type(module) == nn.Linear:\n",
    "        nn.init.constant_(module.weight, 42)\n",
    "\n",
    "net[0].apply(init_xavier)\n",
    "net[2].apply(init_42)\n",
    "print(net[0].weight.data[0])\n",
    "print(net[2].weight.data)"
   ]
  },
  {
   "cell_type": "code",
   "execution_count": 36,
   "id": "c1cf9cbf-9ffc-45d3-b273-faaa91260c00",
   "metadata": {},
   "outputs": [
    {
     "name": "stdout",
     "output_type": "stream",
     "text": [
      "tensor([[87.2439],\n",
      "        [63.3128]], grad_fn=<AddmmBackward0>)\n"
     ]
    }
   ],
   "source": [
    "print(net(X))"
   ]
  },
  {
   "cell_type": "code",
   "execution_count": 37,
   "id": "c9b7ba9d-43bd-4c9a-b3d1-3afad380aba4",
   "metadata": {},
   "outputs": [
    {
     "name": "stdout",
     "output_type": "stream",
     "text": [
      "Sequential(\n",
      "  (0): Linear(in_features=4, out_features=8, bias=True)\n",
      "  (1): ReLU()\n",
      "  (2): Linear(in_features=8, out_features=1, bias=True)\n",
      ")\n"
     ]
    }
   ],
   "source": [
    "print(net)"
   ]
  },
  {
   "cell_type": "code",
   "execution_count": 38,
   "id": "6cc465ee-524d-4fbb-b37c-19596f3b5caf",
   "metadata": {},
   "outputs": [
    {
     "name": "stdout",
     "output_type": "stream",
     "text": [
      "Init weight torch.Size([8, 4])\n",
      "Init weight torch.Size([1, 8])\n"
     ]
    },
    {
     "data": {
      "text/plain": [
       "tensor([[-0.0000, -9.0183,  6.3348, -0.0000],\n",
       "        [ 7.1091,  0.0000,  7.9747, -0.0000]], grad_fn=<SliceBackward0>)"
      ]
     },
     "execution_count": 38,
     "metadata": {},
     "output_type": "execute_result"
    }
   ],
   "source": [
    "def my_init(module):\n",
    "    if type(module) == nn.Linear:\n",
    "        print(\"Init\", *[(name, param.shape)\n",
    "                        for name, param in module.named_parameters()][0])\n",
    "        nn.init.uniform_(module.weight, -10, 10)\n",
    "        module.weight.data *= module.weight.data.abs() >= 5\n",
    "\n",
    "net.apply(my_init)\n",
    "net[0].weight[:2]"
   ]
  },
  {
   "cell_type": "code",
   "execution_count": 39,
   "id": "7a6c92ad-b14f-4681-950c-04f191b749b6",
   "metadata": {},
   "outputs": [
    {
     "data": {
      "text/plain": [
       "Parameter containing:\n",
       "tensor([[-0.0000, -9.0183,  6.3348, -0.0000],\n",
       "        [ 7.1091,  0.0000,  7.9747, -0.0000],\n",
       "        [-6.8346, -8.6194, -0.0000, -5.0848],\n",
       "        [-0.0000, -0.0000,  7.7123, -0.0000],\n",
       "        [-0.0000, -5.8656, -0.0000, -0.0000],\n",
       "        [ 0.0000, -9.1871, -0.0000, -5.8814],\n",
       "        [-9.4074,  8.7232,  7.2690, -5.4035],\n",
       "        [-6.6960, -8.1710,  0.0000,  5.1862]], requires_grad=True)"
      ]
     },
     "execution_count": 39,
     "metadata": {},
     "output_type": "execute_result"
    }
   ],
   "source": [
    "net[0].weight"
   ]
  },
  {
   "cell_type": "code",
   "execution_count": 40,
   "id": "e7673243-3bea-44d9-9624-51e2b806916b",
   "metadata": {},
   "outputs": [
    {
     "data": {
      "text/plain": [
       "tensor([42.0000, -8.0183,  7.3348,  1.0000])"
      ]
     },
     "execution_count": 40,
     "metadata": {},
     "output_type": "execute_result"
    }
   ],
   "source": [
    "net[0].weight.data[:] += 1\n",
    "net[0].weight.data[0, 0] = 42\n",
    "net[0].weight.data[0]"
   ]
  },
  {
   "cell_type": "code",
   "execution_count": 41,
   "id": "44ed83d0-cea3-4555-90d7-7dd6526df2df",
   "metadata": {},
   "outputs": [
    {
     "data": {
      "text/plain": [
       "Parameter containing:\n",
       "tensor([[42.0000, -8.0183,  7.3348,  1.0000],\n",
       "        [ 8.1091,  1.0000,  8.9747,  1.0000],\n",
       "        [-5.8346, -7.6194,  1.0000, -4.0848],\n",
       "        [ 1.0000,  1.0000,  8.7123,  1.0000],\n",
       "        [ 1.0000, -4.8656,  1.0000,  1.0000],\n",
       "        [ 1.0000, -8.1871,  1.0000, -4.8814],\n",
       "        [-8.4074,  9.7232,  8.2690, -4.4035],\n",
       "        [-5.6960, -7.1710,  1.0000,  6.1862]], requires_grad=True)"
      ]
     },
     "execution_count": 41,
     "metadata": {},
     "output_type": "execute_result"
    }
   ],
   "source": [
    "net[0].weight"
   ]
  },
  {
   "cell_type": "code",
   "execution_count": 42,
   "id": "f1767ffb-b570-4f34-9853-9519dc0fc7e0",
   "metadata": {},
   "outputs": [
    {
     "name": "stderr",
     "output_type": "stream",
     "text": [
      "C:\\Users\\drhu0\\miniconda3\\Lib\\site-packages\\torch\\nn\\modules\\lazy.py:180: UserWarning: Lazy modules are a new feature under heavy development so changes to the API or functionality can happen at any moment.\n",
      "  warnings.warn('Lazy modules are a new feature under heavy development '\n"
     ]
    },
    {
     "data": {
      "text/plain": [
       "<UninitializedParameter>"
      ]
     },
     "execution_count": 42,
     "metadata": {},
     "output_type": "execute_result"
    }
   ],
   "source": [
    "#Lazy Initialization\n",
    "import torch\n",
    "from torch import nn\n",
    "from d2l import torch as d2l\n",
    "\n",
    "net = nn.Sequential(nn.LazyLinear(256), nn.ReLU(), nn.LazyLinear(10))\n",
    "net[0].weight\n",
    "#net[0].weight.shape"
   ]
  },
  {
   "cell_type": "code",
   "execution_count": 43,
   "id": "eb897a60-88a3-4d12-8c3e-6cb8b8d1bb00",
   "metadata": {},
   "outputs": [
    {
     "data": {
      "text/plain": [
       "torch.Size([256, 20])"
      ]
     },
     "execution_count": 43,
     "metadata": {},
     "output_type": "execute_result"
    }
   ],
   "source": [
    "X = torch.rand(2, 20)\n",
    "net(X)\n",
    "\n",
    "net[0].weight.shape"
   ]
  },
  {
   "cell_type": "code",
   "execution_count": 44,
   "id": "654bcd65-00c2-42c4-8197-8d7251509f3c",
   "metadata": {},
   "outputs": [
    {
     "data": {
      "text/plain": [
       "Parameter containing:\n",
       "tensor([[ 0.0131, -0.2014, -0.0057,  ...,  0.0915,  0.0526, -0.0537],\n",
       "        [ 0.0898,  0.0993,  0.0033,  ..., -0.1568, -0.1023, -0.0168],\n",
       "        [-0.1921,  0.1482,  0.1427,  ..., -0.0340, -0.1235, -0.0430],\n",
       "        ...,\n",
       "        [-0.1826,  0.1816, -0.0626,  ..., -0.1748,  0.0444, -0.1504],\n",
       "        [-0.1900, -0.0791,  0.1566,  ..., -0.0520, -0.1659, -0.1598],\n",
       "        [ 0.0927, -0.1618,  0.1594,  ..., -0.0795,  0.0193,  0.1490]],\n",
       "       requires_grad=True)"
      ]
     },
     "execution_count": 44,
     "metadata": {},
     "output_type": "execute_result"
    }
   ],
   "source": [
    "net[0].weight"
   ]
  },
  {
   "cell_type": "code",
   "execution_count": 45,
   "id": "ab50db92-ce04-4e1c-81b2-fab71bdd53b5",
   "metadata": {},
   "outputs": [],
   "source": [
    "@d2l.add_to_class(d2l.Module)  #@save\n",
    "def apply_init(self, inputs, init=None):\n",
    "    self.forward(*inputs)\n",
    "    if init is not None:\n",
    "        self.net.apply(init)"
   ]
  },
  {
   "cell_type": "code",
   "execution_count": 46,
   "id": "bee6c8d6-7a1c-4f63-ab7e-ce48b2a728be",
   "metadata": {},
   "outputs": [
    {
     "name": "stdout",
     "output_type": "stream",
     "text": [
      "tensor(3.)\n"
     ]
    },
    {
     "data": {
      "text/plain": [
       "tensor([-2., -1.,  0.,  1.,  2.])"
      ]
     },
     "execution_count": 46,
     "metadata": {},
     "output_type": "execute_result"
    }
   ],
   "source": [
    "#Custom Layers\n",
    "import torch\n",
    "from torch import nn\n",
    "from torch.nn import functional as F\n",
    "from d2l import torch as d2l\n",
    "class CenteredLayer(nn.Module):\n",
    "    def __init__(self):\n",
    "        super().__init__()\n",
    "\n",
    "    def forward(self, X):\n",
    "        return X - X.mean()\n",
    "\n",
    "layer = CenteredLayer()\n",
    "X=torch.tensor([1.0, 2, 3, 4, 5])\n",
    "print(X.mean())\n",
    "layer(X)"
   ]
  },
  {
   "cell_type": "code",
   "execution_count": 47,
   "id": "e9d5875c-cf1f-46f2-a9a3-e4990330b976",
   "metadata": {},
   "outputs": [
    {
     "data": {
      "text/plain": [
       "tensor(-7.4506e-09, grad_fn=<MeanBackward0>)"
      ]
     },
     "execution_count": 47,
     "metadata": {},
     "output_type": "execute_result"
    }
   ],
   "source": [
    "net = nn.Sequential(nn.LazyLinear(128), CenteredLayer())\n",
    "Y = net(torch.rand(4, 8))\n",
    "Y.mean()"
   ]
  },
  {
   "cell_type": "code",
   "execution_count": 48,
   "id": "34044dc6-44dd-4db9-98ae-39269e85a3ff",
   "metadata": {},
   "outputs": [],
   "source": [
    "class MyLinear(nn.Module):\n",
    "    def __init__(self, in_units, units):\n",
    "        super().__init__()\n",
    "        self.weight = nn.Parameter(torch.randn(in_units, units))\n",
    "        self.bias = nn.Parameter(torch.randn(units,))\n",
    "\n",
    "    def forward(self, X):\n",
    "        linear = torch.matmul(X, self.weight.data) + self.bias.data\n",
    "        return F.relu(linear)"
   ]
  },
  {
   "cell_type": "code",
   "execution_count": 49,
   "id": "f485ef5a-bfc9-4291-98a9-7f148c2e4b80",
   "metadata": {},
   "outputs": [
    {
     "data": {
      "text/plain": [
       "Parameter containing:\n",
       "tensor([[ 0.2973,  0.2372, -0.2901],\n",
       "        [ 0.3082, -1.9233, -0.9046],\n",
       "        [-0.5008, -0.2955, -0.3863],\n",
       "        [ 1.4239, -0.0408,  1.3466],\n",
       "        [-0.6026, -1.2162,  0.3429]], requires_grad=True)"
      ]
     },
     "execution_count": 49,
     "metadata": {},
     "output_type": "execute_result"
    }
   ],
   "source": [
    "linear = MyLinear(5, 3)\n",
    "linear.weight"
   ]
  },
  {
   "cell_type": "code",
   "execution_count": 50,
   "id": "f249beea-0485-4153-9006-b6a0674f7bf0",
   "metadata": {},
   "outputs": [
    {
     "data": {
      "text/plain": [
       "tensor([[0.0000, 0.0000, 0.0000],\n",
       "        [0.0000, 0.0000, 0.3829]])"
      ]
     },
     "execution_count": 50,
     "metadata": {},
     "output_type": "execute_result"
    }
   ],
   "source": [
    "linear(torch.rand(2, 5))"
   ]
  },
  {
   "cell_type": "code",
   "execution_count": 51,
   "id": "01a6303c-414d-4ada-ae9a-5309b6afa722",
   "metadata": {},
   "outputs": [
    {
     "data": {
      "text/plain": [
       "tensor([0.6947, 0.0000, 3.6955])"
      ]
     },
     "execution_count": 51,
     "metadata": {},
     "output_type": "execute_result"
    }
   ],
   "source": [
    "linear(X)"
   ]
  },
  {
   "cell_type": "code",
   "execution_count": 52,
   "id": "cb31c429-5851-4c5b-8cf4-a3fb45e00b37",
   "metadata": {},
   "outputs": [
    {
     "data": {
      "text/plain": [
       "tensor([[0.],\n",
       "        [0.]])"
      ]
     },
     "execution_count": 52,
     "metadata": {},
     "output_type": "execute_result"
    }
   ],
   "source": [
    "net = nn.Sequential(MyLinear(64, 8), MyLinear(8, 1))\n",
    "net(torch.rand(2, 64))"
   ]
  },
  {
   "cell_type": "code",
   "execution_count": 53,
   "id": "d2d89654-657b-49d5-805a-02ffd73682e1",
   "metadata": {},
   "outputs": [],
   "source": [
    "# File I/O\n",
    "import torch\n",
    "from torch import nn\n",
    "from torch.nn import functional as F"
   ]
  },
  {
   "cell_type": "code",
   "execution_count": 54,
   "id": "3b42bc5f-4011-44e5-8841-884c43d290e1",
   "metadata": {},
   "outputs": [
    {
     "name": "stdout",
     "output_type": "stream",
     "text": [
      "tensor([[0.9242, 0.4807, 0.2747, 0.1142, 0.5130, 0.5309, 0.3431, 0.9387, 0.2909,\n",
      "         0.5965],\n",
      "        [0.1903, 0.7803, 0.1685, 0.5773, 0.6234, 0.1553, 0.3422, 0.3461, 0.6596,\n",
      "         0.7240]])\n"
     ]
    }
   ],
   "source": [
    "x=torch.rand(2, 10)\n",
    "print(x)\n",
    "torch.save(x, 'x-file')"
   ]
  },
  {
   "cell_type": "code",
   "execution_count": 55,
   "id": "086bc36b-c2ea-4c58-bb94-ca23666e720a",
   "metadata": {},
   "outputs": [
    {
     "data": {
      "text/plain": [
       "tensor([[0.9242, 0.4807, 0.2747, 0.1142, 0.5130, 0.5309, 0.3431, 0.9387, 0.2909,\n",
       "         0.5965],\n",
       "        [0.1903, 0.7803, 0.1685, 0.5773, 0.6234, 0.1553, 0.3422, 0.3461, 0.6596,\n",
       "         0.7240]])"
      ]
     },
     "execution_count": 55,
     "metadata": {},
     "output_type": "execute_result"
    }
   ],
   "source": [
    "x2 = torch.load('x-file')\n",
    "x2"
   ]
  },
  {
   "cell_type": "code",
   "execution_count": 56,
   "id": "9cdb3319-b701-4c6f-b9cf-b8a961432b82",
   "metadata": {},
   "outputs": [
    {
     "data": {
      "text/plain": [
       "(tensor([[0.9242, 0.4807, 0.2747, 0.1142, 0.5130, 0.5309, 0.3431, 0.9387, 0.2909,\n",
       "          0.5965],\n",
       "         [0.1903, 0.7803, 0.1685, 0.5773, 0.6234, 0.1553, 0.3422, 0.3461, 0.6596,\n",
       "          0.7240]]),\n",
       " tensor([0., 0., 0., 0.]))"
      ]
     },
     "execution_count": 56,
     "metadata": {},
     "output_type": "execute_result"
    }
   ],
   "source": [
    "y = torch.zeros(4)\n",
    "torch.save([x, y],'x-files')\n",
    "x2, y2 = torch.load('x-files')\n",
    "(x2, y2)"
   ]
  },
  {
   "cell_type": "code",
   "execution_count": 57,
   "id": "1b406708-33dd-4bb3-b08f-45b450486a99",
   "metadata": {},
   "outputs": [
    {
     "data": {
      "text/plain": [
       "{'x': tensor([[0.9242, 0.4807, 0.2747, 0.1142, 0.5130, 0.5309, 0.3431, 0.9387, 0.2909,\n",
       "          0.5965],\n",
       "         [0.1903, 0.7803, 0.1685, 0.5773, 0.6234, 0.1553, 0.3422, 0.3461, 0.6596,\n",
       "          0.7240]]),\n",
       " 'y': tensor([0., 0., 0., 0.])}"
      ]
     },
     "execution_count": 57,
     "metadata": {},
     "output_type": "execute_result"
    }
   ],
   "source": [
    "mydict = {'x': x, 'y': y}\n",
    "torch.save(mydict, 'mydict')\n",
    "mydict2 = torch.load('mydict')\n",
    "mydict2"
   ]
  },
  {
   "cell_type": "code",
   "execution_count": 58,
   "id": "85adb349-e048-48b1-a5a2-1c4bc538c3a6",
   "metadata": {},
   "outputs": [
    {
     "name": "stdout",
     "output_type": "stream",
     "text": [
      "tensor([[ 1.0439, -0.0724, -0.5377,  1.8004,  0.8488,  0.8118,  0.4142,  0.0340,\n",
      "         -1.2557,  0.0288,  0.4713,  0.3631,  1.9804, -1.0211,  1.3738,  0.6628,\n",
      "         -0.0835,  0.4163,  1.5785,  0.2228],\n",
      "        [-0.7743, -0.4233,  0.5989,  1.4304,  0.7714,  1.2853, -0.3664, -0.5093,\n",
      "          1.2706, -0.0946, -0.0398,  2.2254, -0.8985,  0.2970,  0.3621,  2.1783,\n",
      "         -0.7502,  0.2974, -0.6587,  0.4540]])\n",
      "tensor([[ 0.0313,  0.1500,  0.0627,  0.1421, -0.1367, -0.5144, -0.0518,  0.2252,\n",
      "          0.2646, -0.2093],\n",
      "        [-0.0700, -0.0063, -0.3096, -0.0241, -0.0530, -0.1781, -0.4343,  0.0396,\n",
      "          0.2136, -0.0968]], grad_fn=<AddmmBackward0>)\n",
      "MLP(\n",
      "  (hidden): Linear(in_features=20, out_features=256, bias=True)\n",
      "  (output): Linear(in_features=256, out_features=10, bias=True)\n",
      ")\n"
     ]
    }
   ],
   "source": [
    "class MLP(nn.Module):\n",
    "    def __init__(self):\n",
    "        super().__init__()\n",
    "        self.hidden = nn.LazyLinear(256)\n",
    "        self.output = nn.LazyLinear(10)\n",
    "\n",
    "    def forward(self, x):\n",
    "        return self.output(F.relu(self.hidden(x)))\n",
    "\n",
    "net = MLP()\n",
    "X = torch.randn(size=(2, 20))\n",
    "Y = net(X)\n",
    "print(X)\n",
    "print(Y)\n",
    "print(net)"
   ]
  },
  {
   "cell_type": "code",
   "execution_count": 59,
   "id": "2b8761e3-39c8-419c-8360-48f35f23b364",
   "metadata": {},
   "outputs": [],
   "source": [
    "torch.save(net.state_dict(), 'mlp.params')"
   ]
  },
  {
   "cell_type": "code",
   "execution_count": 60,
   "id": "521a6623-ee5a-44d3-b8b6-4accd741285c",
   "metadata": {},
   "outputs": [
    {
     "data": {
      "text/plain": [
       "MLP(\n",
       "  (hidden): LazyLinear(in_features=0, out_features=256, bias=True)\n",
       "  (output): LazyLinear(in_features=0, out_features=10, bias=True)\n",
       ")"
      ]
     },
     "execution_count": 60,
     "metadata": {},
     "output_type": "execute_result"
    }
   ],
   "source": [
    "clone = MLP()\n",
    "clone.load_state_dict(torch.load('mlp.params'))\n",
    "clone.eval()"
   ]
  },
  {
   "cell_type": "code",
   "execution_count": 61,
   "id": "bce3c2bc-3029-4a95-b6be-5b375c54498e",
   "metadata": {},
   "outputs": [
    {
     "name": "stdout",
     "output_type": "stream",
     "text": [
      "tensor([[ 0.0313,  0.1500,  0.0627,  0.1421, -0.1367, -0.5144, -0.0518,  0.2252,\n",
      "          0.2646, -0.2093],\n",
      "        [-0.0700, -0.0063, -0.3096, -0.0241, -0.0530, -0.1781, -0.4343,  0.0396,\n",
      "          0.2136, -0.0968]], grad_fn=<AddmmBackward0>)\n"
     ]
    }
   ],
   "source": [
    "Y_clone = clone(X)\n",
    "print(Y_clone)"
   ]
  },
  {
   "cell_type": "code",
   "execution_count": 62,
   "id": "bf92ec5c-b593-48c2-8682-593db4555f6e",
   "metadata": {},
   "outputs": [
    {
     "data": {
      "text/plain": [
       "tensor([[True, True, True, True, True, True, True, True, True, True],\n",
       "        [True, True, True, True, True, True, True, True, True, True]])"
      ]
     },
     "execution_count": 62,
     "metadata": {},
     "output_type": "execute_result"
    }
   ],
   "source": [
    "Y_clone == Y"
   ]
  },
  {
   "cell_type": "code",
   "execution_count": 63,
   "id": "43868be5-de4e-43f6-8f9e-72609596f968",
   "metadata": {},
   "outputs": [
    {
     "data": {
      "text/plain": [
       "(device(type='cpu'),\n",
       " device(type='cuda', index=0),\n",
       " device(type='cuda', index=1))"
      ]
     },
     "execution_count": 63,
     "metadata": {},
     "output_type": "execute_result"
    }
   ],
   "source": [
    "def cpu():  #@save\n",
    "    \"\"\"Get the CPU device.\"\"\"\n",
    "    return torch.device('cpu')\n",
    "\n",
    "def gpu(i=0):  #@save\n",
    "    \"\"\"Get a GPU device.\"\"\"\n",
    "    return torch.device(f'cuda:{i}')\n",
    "\n",
    "cpu(), gpu(), gpu(1)"
   ]
  },
  {
   "cell_type": "code",
   "execution_count": 64,
   "id": "43da9fc8-4084-43da-b76f-c1a9087de9dc",
   "metadata": {},
   "outputs": [
    {
     "data": {
      "text/plain": [
       "0"
      ]
     },
     "execution_count": 64,
     "metadata": {},
     "output_type": "execute_result"
    }
   ],
   "source": [
    "def num_gpus():  #@save\n",
    "    \"\"\"Get the number of available GPUs.\"\"\"\n",
    "    return torch.cuda.device_count()\n",
    "\n",
    "num_gpus()"
   ]
  },
  {
   "cell_type": "code",
   "execution_count": 65,
   "id": "74116db2-7d88-43f8-8ef5-bb8b923cd084",
   "metadata": {},
   "outputs": [
    {
     "data": {
      "text/plain": [
       "device(type='cpu')"
      ]
     },
     "execution_count": 65,
     "metadata": {},
     "output_type": "execute_result"
    }
   ],
   "source": [
    "def try_gpu(i=0):  #@save\n",
    "    \"\"\"Return gpu(i) if exists, otherwise return cpu().\"\"\"\n",
    "    if num_gpus() >= i + 1:\n",
    "        return gpu(i)\n",
    "    return cpu()\n",
    "\n",
    "def try_all_gpus():  #@save\n",
    "    \"\"\"Return all available GPUs, or [cpu(),] if no GPU exists.\"\"\"\n",
    "    return [gpu(i) for i in range(num_gpus())]\n",
    "\n",
    "try_gpu()"
   ]
  },
  {
   "cell_type": "code",
   "execution_count": 66,
   "id": "2d482704-1774-4a40-9016-1c927275bd45",
   "metadata": {},
   "outputs": [
    {
     "data": {
      "text/plain": [
       "device(type='cpu')"
      ]
     },
     "execution_count": 66,
     "metadata": {},
     "output_type": "execute_result"
    }
   ],
   "source": [
    "try_gpu(10)"
   ]
  },
  {
   "cell_type": "code",
   "execution_count": 67,
   "id": "1946e76e-9fe8-4bd4-9584-3da1c6fba2d2",
   "metadata": {},
   "outputs": [
    {
     "data": {
      "text/plain": [
       "[]"
      ]
     },
     "execution_count": 67,
     "metadata": {},
     "output_type": "execute_result"
    }
   ],
   "source": [
    "try_all_gpus()"
   ]
  },
  {
   "cell_type": "code",
   "execution_count": 68,
   "id": "5121b29f-d0d9-4766-b7a8-69a17b526a5f",
   "metadata": {},
   "outputs": [
    {
     "data": {
      "text/plain": [
       "device(type='cpu')"
      ]
     },
     "execution_count": 68,
     "metadata": {},
     "output_type": "execute_result"
    }
   ],
   "source": [
    "x = torch.tensor([1, 2, 3])\n",
    "x.device"
   ]
  },
  {
   "cell_type": "code",
   "execution_count": 69,
   "id": "e6989373-76e3-4ea4-9e48-7f9bf44ee26d",
   "metadata": {},
   "outputs": [
    {
     "name": "stderr",
     "output_type": "stream",
     "text": [
      "'nvidia-smi' is not recognized as an internal or external command,\n",
      "operable program or batch file.\n"
     ]
    }
   ],
   "source": [
    "!nvidia-smi"
   ]
  },
  {
   "cell_type": "code",
   "execution_count": null,
   "id": "ed1d0d93-f22c-40f8-838d-71309d87da54",
   "metadata": {},
   "outputs": [],
   "source": []
  }
 ],
 "metadata": {
  "kernelspec": {
   "display_name": "Python 3 (ipykernel)",
   "language": "python",
   "name": "python3"
  },
  "language_info": {
   "codemirror_mode": {
    "name": "ipython",
    "version": 3
   },
   "file_extension": ".py",
   "mimetype": "text/x-python",
   "name": "python",
   "nbconvert_exporter": "python",
   "pygments_lexer": "ipython3",
   "version": "3.11.5"
  }
 },
 "nbformat": 4,
 "nbformat_minor": 5
}
